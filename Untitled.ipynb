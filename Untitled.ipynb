{
 "cells": [
  {
   "cell_type": "code",
   "execution_count": 1,
   "id": "f9c55371-9faf-4d84-9fdf-3cedf2e20299",
   "metadata": {},
   "outputs": [],
   "source": [
    "import time\n",
    "import itertools\n",
    "\n",
    "import mujoco\n",
    "import numpy as np\n",
    "import mediapy as media\n",
    "import matplotlib.pyplot as plt\n",
    "\n",
    "# More legible printing from numpy.\n",
    "np.set_printoptions(precision=3, suppress=True, linewidth=100)"
   ]
  },
  {
   "cell_type": "code",
   "execution_count": 2,
   "id": "27f71771-91e0-41a9-a20d-5f1c25b76fbb",
   "metadata": {},
   "outputs": [],
   "source": [
    "xml = \"\"\"\n",
    "<mujoco>\n",
    "  <worldbody>\n",
    "    <geom name=\"red_box\" type=\"box\" size=\".2 .2 .2\" rgba=\"1 0 0 1\"/>\n",
    "    <geom name=\"green_sphere\" pos=\".2 .2 .2\" size=\".1\" rgba=\"0 1 0 1\"/>\n",
    "  </worldbody>\n",
    "</mujoco>\n",
    "\"\"\"\n",
    "model = mujoco.MjModel.from_xml_string(xml)"
   ]
  },
  {
   "cell_type": "code",
   "execution_count": 3,
   "id": "21589910-64f6-48b0-ba75-5ec2726a8733",
   "metadata": {},
   "outputs": [
    {
     "data": {
      "text/plain": [
       "2"
      ]
     },
     "execution_count": 3,
     "metadata": {},
     "output_type": "execute_result"
    }
   ],
   "source": [
    "model.ngeom"
   ]
  },
  {
   "cell_type": "code",
   "execution_count": 4,
   "id": "57418897-0894-42d1-8bdb-8ef1724c5213",
   "metadata": {},
   "outputs": [
    {
     "data": {
      "text/plain": [
       "array([[1., 0., 0., 1.],\n",
       "       [0., 1., 0., 1.]], dtype=float32)"
      ]
     },
     "execution_count": 4,
     "metadata": {},
     "output_type": "execute_result"
    }
   ],
   "source": [
    "model.geom_rgba"
   ]
  },
  {
   "cell_type": "code",
   "execution_count": 5,
   "id": "03dec43f-b621-466f-aca2-17d3a526579a",
   "metadata": {},
   "outputs": [
    {
     "name": "stdout",
     "output_type": "stream",
     "text": [
      "\"Invalid name ''. Valid names: ['green_sphere', 'red_box']\"\n"
     ]
    }
   ],
   "source": [
    "try:\n",
    "  model.geom()\n",
    "except KeyError as e:\n",
    "  print(e)"
   ]
  },
  {
   "cell_type": "code",
   "execution_count": 6,
   "id": "093501ff-d3a5-40fd-a572-c49653ad5e2a",
   "metadata": {},
   "outputs": [
    {
     "data": {
      "text/plain": [
       "<_MjModelGeomViews\n",
       "  bodyid: array([0], dtype=int32)\n",
       "  conaffinity: array([1], dtype=int32)\n",
       "  condim: array([3], dtype=int32)\n",
       "  contype: array([1], dtype=int32)\n",
       "  dataid: array([-1], dtype=int32)\n",
       "  friction: array([1.   , 0.005, 0.   ])\n",
       "  gap: array([0.])\n",
       "  group: array([0], dtype=int32)\n",
       "  id: 1\n",
       "  margin: array([0.])\n",
       "  matid: array([-1], dtype=int32)\n",
       "  name: 'green_sphere'\n",
       "  pos: array([0.2, 0.2, 0.2])\n",
       "  priority: array([0], dtype=int32)\n",
       "  quat: array([1., 0., 0., 0.])\n",
       "  rbound: array([0.1])\n",
       "  rgba: array([0., 1., 0., 1.], dtype=float32)\n",
       "  sameframe: array([3], dtype=uint8)\n",
       "  size: array([0.1, 0. , 0. ])\n",
       "  solimp: array([0.9  , 0.95 , 0.001, 0.5  , 2.   ])\n",
       "  solmix: array([1.])\n",
       "  solref: array([0.02, 1.  ])\n",
       "  type: array([2], dtype=int32)\n",
       "  user: array([], dtype=float64)\n",
       ">"
      ]
     },
     "execution_count": 6,
     "metadata": {},
     "output_type": "execute_result"
    }
   ],
   "source": [
    "model.geom('green_sphere')"
   ]
  },
  {
   "cell_type": "code",
   "execution_count": 7,
   "id": "27b579e3-c0e1-459b-852d-01afec14b0b5",
   "metadata": {},
   "outputs": [
    {
     "data": {
      "text/plain": [
       "array([0., 1., 0., 1.], dtype=float32)"
      ]
     },
     "execution_count": 7,
     "metadata": {},
     "output_type": "execute_result"
    }
   ],
   "source": [
    "model.geom('green_sphere').rgba"
   ]
  },
  {
   "cell_type": "code",
   "execution_count": 8,
   "id": "6282eed3-e579-4f0d-9e09-de50b7854d13",
   "metadata": {},
   "outputs": [
    {
     "data": {
      "text/plain": [
       "array([0., 1., 0., 1.], dtype=float32)"
      ]
     },
     "execution_count": 8,
     "metadata": {},
     "output_type": "execute_result"
    }
   ],
   "source": [
    "id = mujoco.mj_name2id(model, mujoco.mjtObj.mjOBJ_GEOM, 'green_sphere')\n",
    "model.geom_rgba[id, :]"
   ]
  },
  {
   "cell_type": "code",
   "execution_count": 9,
   "id": "1f3bc375-566f-4859-acaa-c92cb163e596",
   "metadata": {},
   "outputs": [
    {
     "name": "stdout",
     "output_type": "stream",
     "text": [
      "id of \"green_sphere\":  1\n",
      "name of geom 1:  green_sphere\n",
      "name of body 0:  world\n"
     ]
    }
   ],
   "source": [
    "print('id of \"green_sphere\": ', model.geom('green_sphere').id)\n",
    "print('name of geom 1: ', model.geom(1).name)\n",
    "print('name of body 0: ', model.body(0).name)"
   ]
  },
  {
   "cell_type": "code",
   "execution_count": 10,
   "id": "b90d44ee-53c3-4d77-886d-7c6db4537d1d",
   "metadata": {},
   "outputs": [
    {
     "data": {
      "text/html": [
       "<table class=\"show_images\" style=\"border-spacing:0px;\"><tr><td style=\"padding:1px;\"><img width=\"320\" height=\"240\" style=\"image-rendering:auto; object-fit:cover;\" src=\"data:image/png;base64,iVBORw0KGgoAAAANSUhEUgAAAUAAAADwCAIAAAD+Tyo8AAAA9UlEQVR4nO3BAQEAAACCIP+vbkhAAQAAAAAAAAAAAAAAAAAAAAAAAAAAAAAAAAAAAAAAAAAAAAAAAAAAAAAAAAAAAAAAAAAAAAAAAAAAAAAAAAAAAAAAAAAAAAAAAAAAAAAAAAAAAAAAAAAAAAAAAAAAAAAAAAAAAAAAAAAAAAAAAAAAAAAAAAAAAAAAAAAAAAAAAAAAAAAAAAAAAAAAAAAAAAAAAAAAAAAAAAAAAAAAAAAAAAAAAAAAAAAAAAAAAAAAAAAAAAAAAAAAAAAAAAAAAAAAAAAAAAAAAAAAAAAAAAAAAAAAAAAAAAAAAAAAAAAAAPBohR0AAXbPpmUAAAAASUVORK5CYII=\"/></td></tr></table>"
      ],
      "text/plain": [
       "<IPython.core.display.HTML object>"
      ]
     },
     "metadata": {},
     "output_type": "display_data"
    }
   ],
   "source": [
    "xml = \"\"\"\n",
    "<mujoco>\n",
    "  <worldbody>\n",
    "    <geom name=\"red_box\" type=\"box\" size=\".2 .2 .2\" rgba=\"1 0 0 1\"/>\n",
    "    <geom name=\"green_sphere\" pos=\".2 .2 .2\" size=\".1\" rgba=\"0 1 0 1\"/>\n",
    "  </worldbody>\n",
    "</mujoco>\n",
    "\"\"\"\n",
    "# Make model and data\n",
    "model = mujoco.MjModel.from_xml_string(xml)\n",
    "data = mujoco.MjData(model)\n",
    "\n",
    "# Make renderer, render and show the pixels\n",
    "with mujoco.Renderer(model) as renderer:\n",
    "  media.show_image(renderer.render())"
   ]
  },
  {
   "cell_type": "code",
   "execution_count": 11,
   "id": "3a82627f-6acb-428a-b29c-ca3768a762b9",
   "metadata": {},
   "outputs": [
    {
     "data": {
      "text/html": [
       "<table class=\"show_images\" style=\"border-spacing:0px;\"><tr><td style=\"padding:1px;\"><img width=\"320\" height=\"240\" style=\"image-rendering:auto; object-fit:cover;\" src=\"data:image/png;base64,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\"/></td></tr></table>"
      ],
      "text/plain": [
       "<IPython.core.display.HTML object>"
      ]
     },
     "metadata": {},
     "output_type": "display_data"
    }
   ],
   "source": [
    "with mujoco.Renderer(model) as renderer:\n",
    "  mujoco.mj_forward(model, data)\n",
    "  renderer.update_scene(data)\n",
    "\n",
    "  media.show_image(renderer.render())"
   ]
  },
  {
   "cell_type": "code",
   "execution_count": 12,
   "id": "5d3526fd-97c8-44a0-aba4-1031fd592aa3",
   "metadata": {},
   "outputs": [
    {
     "data": {
      "text/html": [
       "<table class=\"show_images\" style=\"border-spacing:0px;\"><tr><td style=\"padding:1px;\"><img width=\"320\" height=\"240\" style=\"image-rendering:auto; object-fit:cover;\" src=\"data:image/png;base64,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\"/></td></tr></table>"
      ],
      "text/plain": [
       "<IPython.core.display.HTML object>"
      ]
     },
     "metadata": {},
     "output_type": "display_data"
    }
   ],
   "source": [
    "xml = \"\"\"\n",
    "<mujoco>\n",
    "  <worldbody>\n",
    "    <light name=\"top\" pos=\"0 0 1\"/>\n",
    "    <geom name=\"red_box\" type=\"box\" size=\".2 .2 .2\" rgba=\"1 0 0 1\"/>\n",
    "    <geom name=\"green_sphere\" pos=\".2 .2 .2\" size=\".1\" rgba=\"0 1 0 1\"/>\n",
    "  </worldbody>\n",
    "</mujoco>\n",
    "\"\"\"\n",
    "model = mujoco.MjModel.from_xml_string(xml)\n",
    "data = mujoco.MjData(model)\n",
    "\n",
    "with mujoco.Renderer(model) as renderer:\n",
    "  mujoco.mj_forward(model, data)\n",
    "  renderer.update_scene(data)\n",
    "\n",
    "  media.show_image(renderer.render())"
   ]
  },
  {
   "cell_type": "code",
   "execution_count": null,
   "id": "39b0d013-b73a-443f-9fb6-fa48efa7010c",
   "metadata": {},
   "outputs": [],
   "source": []
  },
  {
   "cell_type": "code",
   "execution_count": null,
   "id": "2412df6c-4fda-474b-a4e6-a2df3a0af9ad",
   "metadata": {},
   "outputs": [],
   "source": []
  }
 ],
 "metadata": {
  "kernelspec": {
   "display_name": "Python 3 (ipykernel)",
   "language": "python",
   "name": "python3"
  },
  "language_info": {
   "codemirror_mode": {
    "name": "ipython",
    "version": 3
   },
   "file_extension": ".py",
   "mimetype": "text/x-python",
   "name": "python",
   "nbconvert_exporter": "python",
   "pygments_lexer": "ipython3",
   "version": "3.10.16"
  },
  "widgets": {
   "application/vnd.jupyter.widget-state+json": {
    "state": {},
    "version_major": 2,
    "version_minor": 0
   }
  }
 },
 "nbformat": 4,
 "nbformat_minor": 5
}
